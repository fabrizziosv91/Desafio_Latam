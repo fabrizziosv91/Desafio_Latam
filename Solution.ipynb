{
 "cells": [
  {
   "cell_type": "code",
   "execution_count": 1,
   "id": "8037b91c-6721-4de4-805f-e19b9e1bab01",
   "metadata": {},
   "outputs": [
    {
     "name": "stderr",
     "output_type": "stream",
     "text": [
      "/var/folders/rh/pzb5251126d2bpjgmyqp6q580000gn/T/ipykernel_94934/694923270.py:6: DtypeWarning: Columns (1,6) have mixed types. Specify dtype option on import or set low_memory=False.\n",
      "  df = pd.read_csv('dataset_SCL.csv', delimiter=',') #Abrir el data set y convertir en dataframe\n"
     ]
    },
    {
     "data": {
      "text/html": [
       "<div>\n",
       "<style scoped>\n",
       "    .dataframe tbody tr th:only-of-type {\n",
       "        vertical-align: middle;\n",
       "    }\n",
       "\n",
       "    .dataframe tbody tr th {\n",
       "        vertical-align: top;\n",
       "    }\n",
       "\n",
       "    .dataframe thead th {\n",
       "        text-align: right;\n",
       "    }\n",
       "</style>\n",
       "<table border=\"1\" class=\"dataframe\">\n",
       "  <thead>\n",
       "    <tr style=\"text-align: right;\">\n",
       "      <th></th>\n",
       "      <th>Fecha-I</th>\n",
       "      <th>Vlo-I</th>\n",
       "      <th>Ori-I</th>\n",
       "      <th>Des-I</th>\n",
       "      <th>Emp-I</th>\n",
       "      <th>Fecha-O</th>\n",
       "      <th>Vlo-O</th>\n",
       "      <th>Ori-O</th>\n",
       "      <th>Des-O</th>\n",
       "      <th>Emp-O</th>\n",
       "      <th>DIA</th>\n",
       "      <th>MES</th>\n",
       "      <th>AÑO</th>\n",
       "      <th>DIANOM</th>\n",
       "      <th>TIPOVUELO</th>\n",
       "      <th>OPERA</th>\n",
       "      <th>SIGLAORI</th>\n",
       "      <th>SIGLADES</th>\n",
       "    </tr>\n",
       "  </thead>\n",
       "  <tbody>\n",
       "    <tr>\n",
       "      <th>0</th>\n",
       "      <td>2017-01-01 23:30:00</td>\n",
       "      <td>226</td>\n",
       "      <td>SCEL</td>\n",
       "      <td>KMIA</td>\n",
       "      <td>AAL</td>\n",
       "      <td>2017-01-01 23:33:00</td>\n",
       "      <td>226</td>\n",
       "      <td>SCEL</td>\n",
       "      <td>KMIA</td>\n",
       "      <td>AAL</td>\n",
       "      <td>1</td>\n",
       "      <td>1</td>\n",
       "      <td>2017</td>\n",
       "      <td>Domingo</td>\n",
       "      <td>I</td>\n",
       "      <td>American Airlines</td>\n",
       "      <td>Santiago</td>\n",
       "      <td>Miami</td>\n",
       "    </tr>\n",
       "    <tr>\n",
       "      <th>1</th>\n",
       "      <td>2017-01-02 23:30:00</td>\n",
       "      <td>226</td>\n",
       "      <td>SCEL</td>\n",
       "      <td>KMIA</td>\n",
       "      <td>AAL</td>\n",
       "      <td>2017-01-02 23:39:00</td>\n",
       "      <td>226</td>\n",
       "      <td>SCEL</td>\n",
       "      <td>KMIA</td>\n",
       "      <td>AAL</td>\n",
       "      <td>2</td>\n",
       "      <td>1</td>\n",
       "      <td>2017</td>\n",
       "      <td>Lunes</td>\n",
       "      <td>I</td>\n",
       "      <td>American Airlines</td>\n",
       "      <td>Santiago</td>\n",
       "      <td>Miami</td>\n",
       "    </tr>\n",
       "  </tbody>\n",
       "</table>\n",
       "</div>"
      ],
      "text/plain": [
       "               Fecha-I Vlo-I Ori-I Des-I Emp-I              Fecha-O Vlo-O  \\\n",
       "0  2017-01-01 23:30:00   226  SCEL  KMIA   AAL  2017-01-01 23:33:00   226   \n",
       "1  2017-01-02 23:30:00   226  SCEL  KMIA   AAL  2017-01-02 23:39:00   226   \n",
       "\n",
       "  Ori-O Des-O Emp-O  DIA  MES   AÑO   DIANOM TIPOVUELO              OPERA  \\\n",
       "0  SCEL  KMIA   AAL    1    1  2017  Domingo         I  American Airlines   \n",
       "1  SCEL  KMIA   AAL    2    1  2017    Lunes         I  American Airlines   \n",
       "\n",
       "   SIGLAORI SIGLADES  \n",
       "0  Santiago    Miami  \n",
       "1  Santiago    Miami  "
      ]
     },
     "execution_count": 1,
     "metadata": {},
     "output_type": "execute_result"
    }
   ],
   "source": [
    "import pandas as pd\n",
    "import numpy as np\n",
    "import matplotlib.pyplot as plt\n",
    "%matplotlib inline\n",
    "\n",
    "df = pd.read_csv('dataset_SCL.csv', delimiter=',') #Abrir el data set y convertir en dataframe\n",
    "\n",
    "df.head(2)"
   ]
  },
  {
   "cell_type": "markdown",
   "id": "c156abe1-0f09-4cee-80dc-03f7ce7297b4",
   "metadata": {},
   "source": [
    "# 1. ¿Cómo se distribuyen los datos? ¿Qué te llama la atención o cuál es tu conclusión sobre esto?"
   ]
  },
  {
   "cell_type": "markdown",
   "id": "47853e80-f3e5-4841-ba33-38c452c9be27",
   "metadata": {},
   "source": [
    "**Conociendo el data set**\n",
    "\n",
    "Puesto que no conozco el contenido de las variables del data set, se hace una pequeña exploración"
   ]
  },
  {
   "cell_type": "code",
   "execution_count": 2,
   "id": "76afd3bb-542c-4d78-88a6-d273b643acb7",
   "metadata": {},
   "outputs": [
    {
     "data": {
      "text/html": [
       "<div>\n",
       "<style scoped>\n",
       "    .dataframe tbody tr th:only-of-type {\n",
       "        vertical-align: middle;\n",
       "    }\n",
       "\n",
       "    .dataframe tbody tr th {\n",
       "        vertical-align: top;\n",
       "    }\n",
       "\n",
       "    .dataframe thead th {\n",
       "        text-align: right;\n",
       "    }\n",
       "</style>\n",
       "<table border=\"1\" class=\"dataframe\">\n",
       "  <thead>\n",
       "    <tr style=\"text-align: right;\">\n",
       "      <th></th>\n",
       "      <th>DIA</th>\n",
       "      <th>MES</th>\n",
       "      <th>AÑO</th>\n",
       "    </tr>\n",
       "  </thead>\n",
       "  <tbody>\n",
       "    <tr>\n",
       "      <th>count</th>\n",
       "      <td>68206.000000</td>\n",
       "      <td>68206.000000</td>\n",
       "      <td>68206.000000</td>\n",
       "    </tr>\n",
       "    <tr>\n",
       "      <th>mean</th>\n",
       "      <td>15.714790</td>\n",
       "      <td>6.622585</td>\n",
       "      <td>2017.000029</td>\n",
       "    </tr>\n",
       "    <tr>\n",
       "      <th>std</th>\n",
       "      <td>8.782886</td>\n",
       "      <td>3.523321</td>\n",
       "      <td>0.005415</td>\n",
       "    </tr>\n",
       "    <tr>\n",
       "      <th>min</th>\n",
       "      <td>1.000000</td>\n",
       "      <td>1.000000</td>\n",
       "      <td>2017.000000</td>\n",
       "    </tr>\n",
       "    <tr>\n",
       "      <th>25%</th>\n",
       "      <td>8.000000</td>\n",
       "      <td>3.000000</td>\n",
       "      <td>2017.000000</td>\n",
       "    </tr>\n",
       "    <tr>\n",
       "      <th>50%</th>\n",
       "      <td>16.000000</td>\n",
       "      <td>7.000000</td>\n",
       "      <td>2017.000000</td>\n",
       "    </tr>\n",
       "    <tr>\n",
       "      <th>75%</th>\n",
       "      <td>23.000000</td>\n",
       "      <td>10.000000</td>\n",
       "      <td>2017.000000</td>\n",
       "    </tr>\n",
       "    <tr>\n",
       "      <th>max</th>\n",
       "      <td>31.000000</td>\n",
       "      <td>12.000000</td>\n",
       "      <td>2018.000000</td>\n",
       "    </tr>\n",
       "  </tbody>\n",
       "</table>\n",
       "</div>"
      ],
      "text/plain": [
       "                DIA           MES           AÑO\n",
       "count  68206.000000  68206.000000  68206.000000\n",
       "mean      15.714790      6.622585   2017.000029\n",
       "std        8.782886      3.523321      0.005415\n",
       "min        1.000000      1.000000   2017.000000\n",
       "25%        8.000000      3.000000   2017.000000\n",
       "50%       16.000000      7.000000   2017.000000\n",
       "75%       23.000000     10.000000   2017.000000\n",
       "max       31.000000     12.000000   2018.000000"
      ]
     },
     "execution_count": 2,
     "metadata": {},
     "output_type": "execute_result"
    }
   ],
   "source": [
    "df.describe()"
   ]
  },
  {
   "cell_type": "code",
   "execution_count": 3,
   "id": "10005cb2-b77a-489d-965e-aa33d6c2b4f5",
   "metadata": {},
   "outputs": [
    {
     "ename": "SyntaxError",
     "evalue": "invalid syntax (1211924889.py, line 1)",
     "output_type": "error",
     "traceback": [
      "\u001b[0;36m  File \u001b[0;32m\"/var/folders/rh/pzb5251126d2bpjgmyqp6q580000gn/T/ipykernel_94934/1211924889.py\"\u001b[0;36m, line \u001b[0;32m1\u001b[0m\n\u001b[0;31m    Se revisa el contenido de las carcateristcas\u001b[0m\n\u001b[0m       ^\u001b[0m\n\u001b[0;31mSyntaxError\u001b[0m\u001b[0;31m:\u001b[0m invalid syntax\n"
     ]
    }
   ],
   "source": [
    "e revisa el contenido de las carcateristcas\n",
    "\n",
    "df.head(3).T"
   ]
  },
  {
   "cell_type": "code",
   "execution_count": null,
   "id": "28d3a5ea-ea16-473f-8517-0456196af756",
   "metadata": {},
   "outputs": [],
   "source": [
    "print(df.shape)"
   ]
  },
  {
   "cell_type": "markdown",
   "id": "8378df96-7124-49fd-84a2-8d83d5f885da",
   "metadata": {},
   "source": [
    "descripción de las columnas del data set"
   ]
  },
  {
   "cell_type": "code",
   "execution_count": null,
   "id": "66dc9779-87a9-48fc-adbf-3dea7db17d9d",
   "metadata": {},
   "outputs": [],
   "source": [
    "df_dict = pd.read_csv('diccionario.csv', delimiter=',') # se abre el diccionario de datos\n",
    "\n",
    "\n",
    "df_dict.head(2)"
   ]
  },
  {
   "cell_type": "code",
   "execution_count": null,
   "id": "885dca56-a58d-44eb-b26c-3ea98a5c2123",
   "metadata": {},
   "outputs": [],
   "source": [
    "flies_dtypes = pd.DataFrame(df.dtypes, columns=['dtypes'])\n",
    "flies_dtypes = flies_dtypes.reset_index()\n",
    "flies_dtypes['name'] = flies_dtypes['index']\n",
    "flies_dtypes = flies_dtypes[['name','dtypes']]\n",
    "flies_dtypes['first value'] = df.loc[0].values"
   ]
  },
  {
   "cell_type": "markdown",
   "id": "95500332-ff61-4220-aeb1-4a94cc932114",
   "metadata": {},
   "source": [
    "**Extrayendo diccionario de datos**"
   ]
  },
  {
   "cell_type": "code",
   "execution_count": null,
   "id": "8c414ed3-4daf-451c-ad28-cd4ec883b3c3",
   "metadata": {},
   "outputs": [],
   "source": [
    "#Dado que vienen un par de campos sin nombre, se procede a renombrar\n",
    "#Estos campos dicen relación con los valores de las varaibles categoricas\n",
    "#Particularmente la variable TIPO VUELO\n",
    "df_dict.rename(columns={\"Unnamed: 2\": \"Valor1\", \"Unnamed: 3\": \"Valor2\"}, inplace=True)\n",
    "df_dict"
   ]
  },
  {
   "cell_type": "markdown",
   "id": "377d5750-6342-4f2b-ab91-4fe16a5439aa",
   "metadata": {},
   "source": [
    "se renombra la columna features proveniente del diccionario, para que al cruzar flies_dtypes con df_dict no se duplique la columna con el nombre de las caracteristicas"
   ]
  },
  {
   "cell_type": "markdown",
   "id": "271d7d2a-4f7f-4a13-8fa7-83e7de3c5cef",
   "metadata": {},
   "source": [
    "se crea una data frame con el resumen de todas las variables y su contenido, de tal manera se tiene una mejor comprension de los datos que fueron entregados"
   ]
  },
  {
   "cell_type": "code",
   "execution_count": null,
   "id": "d446db84-0cb7-4a53-a365-cb73a44dacd9",
   "metadata": {},
   "outputs": [],
   "source": [
    "df_dict.rename(columns={\"features\": \"name\",}, inplace=True)\n",
    "preview = flies_dtypes.merge(df_dict, on='name', how='left')\n",
    "preview"
   ]
  },
  {
   "cell_type": "markdown",
   "id": "5df42e72-5fed-495e-a138-024f41e193ce",
   "metadata": {},
   "source": [
    "donde:\n",
    "* **names**:Nombre de la caracteristica\n",
    "* **dtypes**:tipo de dato de la caracteristica\n",
    "* **first value**:primer valor del data set\n",
    "* **description**: descripción de la variable\n",
    "* **valor1**:primer valor del data set en caso de ser categorica\n",
    "* **valor2**:segundo valor del data set en caso de ser categorica"
   ]
  },
  {
   "cell_type": "markdown",
   "id": "64779ee6-6086-448b-b82d-adfb5e8d435b",
   "metadata": {},
   "source": [
    "Para cualquier operación con fechas es necesario que los campos tengan el formato adecuado (datetime). Por lo que se procede a convertir el formato"
   ]
  },
  {
   "cell_type": "code",
   "execution_count": null,
   "id": "09f30d9e-8ad0-4e34-824c-48bd53bcc8fe",
   "metadata": {},
   "outputs": [],
   "source": [
    "df[\"Fecha-I\"] = pd.to_datetime(df[\"Fecha-I\"])\n",
    "df[\"Fecha-O\"] = pd.to_datetime(df[\"Fecha-O\"])\n",
    "df.head()"
   ]
  },
  {
   "cell_type": "code",
   "execution_count": null,
   "id": "96c7c618-0ff3-44b7-8c9e-9806e3fb8906",
   "metadata": {},
   "outputs": [],
   "source": [
    "print('la primera fecha del dataset es', df[\"Fecha-I\"].min())\n",
    "print('la última fecha del dataset es', df[\"Fecha-I\"].max())"
   ]
  },
  {
   "cell_type": "markdown",
   "id": "a5f5a7d8-ecb8-4997-95d2-9cc4ffe672ae",
   "metadata": {},
   "source": [
    "Se comprueba que los tipos de datos sean los correctos"
   ]
  },
  {
   "cell_type": "code",
   "execution_count": null,
   "id": "960cfd3c-8b8c-481d-afc2-e92017de12a2",
   "metadata": {},
   "outputs": [],
   "source": [
    "df.dtypes"
   ]
  },
  {
   "cell_type": "code",
   "execution_count": null,
   "id": "62854567-7458-4e5c-bf31-67501bdcc811",
   "metadata": {},
   "outputs": [],
   "source": [
    "print(df.isnull().sum())"
   ]
  },
  {
   "cell_type": "markdown",
   "id": "a8180a59-4314-486f-8ce1-e3a348ee89cc",
   "metadata": {},
   "source": [
    "Solo se observa un valor nulo en la variable \"Fecha-O\""
   ]
  },
  {
   "cell_type": "markdown",
   "id": "7433d766-0511-4c27-8a3e-eed815ec244b",
   "metadata": {},
   "source": [
    "**Analsis de la data**\n",
    "\n",
    "una vez que se tiene más claro el contenido del data set, se procede revisar distribuciones"
   ]
  },
  {
   "cell_type": "markdown",
   "id": "1bec1e34-b20e-4953-8967-46a710e6f481",
   "metadata": {},
   "source": [
    "Al revisar el data set fue posible identificar que la mayoria de las variables son categoricas, por lo cual se hace una pequeña revisión del contenido de estas"
   ]
  },
  {
   "cell_type": "code",
   "execution_count": null,
   "id": "b44caadb-1bbf-48a5-ae51-b7fb11bb4f95",
   "metadata": {},
   "outputs": [],
   "source": [
    "cols = ['Vlo-I', 'Ori-I','Des-I', 'Emp-I', 'Vlo-O', 'Ori-O','Des-O', 'Emp-O', 'TIPOVUELO', 'DIANOM','OPERA', 'SIGLAORI', 'SIGLADES']\n",
    "for name in cols:\n",
    "    print(name,':')\n",
    "    print(df[name].value_counts(),'\\n')"
   ]
  },
  {
   "cell_type": "markdown",
   "id": "7cdfa1ba-a7b4-4f5b-8a76-6db6d9b3592d",
   "metadata": {},
   "source": [
    "Lo primero que puedo notar esta información es que:\n",
    "\n",
    "* Se observa una gran diferencia en la cantidad de vuelos programados de algunas aerlos y su disminución en la operación.\n",
    "* Existe una proporción similar entre vuelos nacionales e internacionales\n",
    "* La distribución de viajes diarios es bastante similar.\n",
    "* Los viajes nacionales se concentran donde existe una alta actividad economica como producción de cobre en el norte\n",
    "* Los viajes internacionales se concentran más en los paises más cercanos."
   ]
  },
  {
   "cell_type": "markdown",
   "id": "25b7db2e-097a-4e82-951b-7942270f77e0",
   "metadata": {},
   "source": [
    "Se estudiará en mas detalle el porque del cambio tan abrupto de aerolineas que programan versus las que operan."
   ]
  },
  {
   "cell_type": "code",
   "execution_count": null,
   "id": "3ac85eb5-177c-47af-a636-d9e8f470a53b",
   "metadata": {},
   "outputs": [],
   "source": [
    "# gráfico de barras de frecuencias relativas.\n",
    "\n",
    "plot = (100*df['Emp-I'].value_counts()/len(df['Emp-I'])).plot(kind='bar', title='% Aerolineas programadas')"
   ]
  },
  {
   "cell_type": "code",
   "execution_count": null,
   "id": "fd684e7a-86a0-4feb-8392-ac02eacb4a48",
   "metadata": {},
   "outputs": [],
   "source": [
    "plot2=(100*df['Emp-O'].value_counts()/len(df['Emp-O'])).plot(kind='bar', title='% Aerolineas Operadas')"
   ]
  },
  {
   "cell_type": "markdown",
   "id": "6cdf9bd6-729a-442d-aa61-4f50860e929b",
   "metadata": {},
   "source": [
    "En general se mantiene la tendencia de que las aerolines que mas programan son las que mas operan, también es destacable que existen códigos de aerolineas que tenian muy baja participación en cuanto a programación y luego adquieren mayor relevancia en la operación, como por ejemplo LXP y JMR. \n",
    "\n",
    "Se puede observar que LAN disminuye cerca de un 20% en la participación de aerolineas que operan, cuya particación es absrovida por LXP."
   ]
  },
  {
   "cell_type": "code",
   "execution_count": null,
   "id": "74df2dbb-3807-49f8-9d2c-0ba83fdf4930",
   "metadata": {},
   "outputs": [],
   "source": [
    "print(df['OPERA'][df['Emp-O']=='LXP'].head(1))\n",
    "print(df['OPERA'][df['Emp-O']=='JMR'].head(1))"
   ]
  },
  {
   "cell_type": "markdown",
   "id": "a24f8db4-6e27-4395-a3c9-a14dac42bcf3",
   "metadata": {},
   "source": [
    "Al revisar cuales son estas aerolines, aparentemente se tratan de aerolineas que cubren las operaciones de otras."
   ]
  },
  {
   "cell_type": "markdown",
   "id": "1146785e-43f7-4050-9cbb-debe92dfa855",
   "metadata": {},
   "source": [
    "**A modo de hipotesis**, es posible que haya una relación directa entre el cambio de los itinerarios de los vuelos programados.\n",
    "\n",
    "Suponiendo que el atraso de un vuelo se refleja en el cambio de hora y esto es sabido luego de conocer los nuevos itinerarios de los vuelos."
   ]
  },
  {
   "cell_type": "code",
   "execution_count": null,
   "id": "5cc85700-ff77-45c4-9644-7a43e9a9378d",
   "metadata": {},
   "outputs": [],
   "source": [
    "df['cambio_vuelo']=np.where(df['Vlo-I']==df['Vlo-O'],0,1)\n",
    "df['cambio_Destino']=np.where(df['Des-I']==df['Des-O'],0,1)\n",
    "df['cambio_emp']=np.where(df['Emp-I']==df['Emp-O'],0,1)"
   ]
  },
  {
   "cell_type": "code",
   "execution_count": null,
   "id": "8c6099e8-0687-41bc-8958-2f497b3542ec",
   "metadata": {},
   "outputs": [],
   "source": [
    "df['cambio_vuelo'].value_counts()"
   ]
  },
  {
   "cell_type": "code",
   "execution_count": null,
   "id": "5518445a-9e88-4fd2-84ae-c50f84c64342",
   "metadata": {},
   "outputs": [],
   "source": [
    "df['cambio_Destino'].value_counts()"
   ]
  },
  {
   "cell_type": "code",
   "execution_count": null,
   "id": "6faeecdf-d472-4627-8931-4fe57520f18b",
   "metadata": {},
   "outputs": [],
   "source": [
    "df['cambio_emp'].value_counts()"
   ]
  },
  {
   "cell_type": "markdown",
   "id": "78bc6c41-e558-43aa-a491-8bee196e0fc0",
   "metadata": {},
   "source": [
    "El cambio más significativo es el del código de la aerolinea preagada.\n",
    "\n",
    "Ahora se revisa la proporción entre vuelos progamados que luego son operados por otra aerolinea"
   ]
  },
  {
   "cell_type": "code",
   "execution_count": null,
   "id": "6364418f-70dc-4401-871d-235ad4f8beda",
   "metadata": {},
   "outputs": [],
   "source": [
    "df_res = df.groupby('Emp-I').agg({'Emp-I': 'count',\n",
    "                                  'cambio_emp': 'sum'})\n",
    "\n",
    "df_res['prop']=(df_res['cambio_emp']/df_res['Emp-I']).sort_values(ascending = True)"
   ]
  },
  {
   "cell_type": "code",
   "execution_count": null,
   "id": "77449848-6823-43a2-8b03-267a944b01c3",
   "metadata": {},
   "outputs": [],
   "source": [
    "df_res.sort_values(by='prop', ascending = False)"
   ]
  },
  {
   "cell_type": "markdown",
   "id": "89b7e77e-57f1-4bcb-ab2a-4637ba6d2cb6",
   "metadata": {},
   "source": [
    "Lo mas destacable es que existen aerolineas que todos sus vuelos programados cambian en la operación, como lo es QFU y LAW.\n",
    "\n",
    "Como se mensiono anteriormente LAN tambien cambia bastante"
   ]
  },
  {
   "cell_type": "markdown",
   "id": "dfe23fa4-cac5-44fc-b190-a8a64dd9f610",
   "metadata": {},
   "source": [
    "A continuación se revisa como se distribuyen las operaciones de los vuelos programados"
   ]
  },
  {
   "cell_type": "code",
   "execution_count": null,
   "id": "dfc45bc6-fc0c-4dea-9cfe-49058bc67fe0",
   "metadata": {},
   "outputs": [],
   "source": [
    "pd.crosstab(df['Emp-I'][df['Emp-I']=='QFU'], df['Emp-O'][df['Emp-I']=='QFU'])"
   ]
  },
  {
   "cell_type": "code",
   "execution_count": null,
   "id": "51752c1a-5cd8-4d45-adb4-affbd99a8865",
   "metadata": {},
   "outputs": [],
   "source": [
    "pd.crosstab(df['Emp-I'][df['Emp-I']=='LAW'], df['Emp-O'][df['Emp-I']=='LAW'])"
   ]
  },
  {
   "cell_type": "code",
   "execution_count": null,
   "id": "d3aec6e3-4040-41bc-9b88-ae2e22f3c519",
   "metadata": {},
   "outputs": [],
   "source": [
    "pd.crosstab(df['Emp-I'][df['Emp-I']=='LAN'], df['Emp-O'][df['Emp-I']=='LAN'])"
   ]
  },
  {
   "cell_type": "code",
   "execution_count": null,
   "id": "ef3411f9-beb4-4e05-bf49-c540e627c435",
   "metadata": {},
   "outputs": [],
   "source": [
    "pd.crosstab(df['Emp-I'][df['Emp-I']=='AVA'], df['Emp-O'][df['Emp-I']=='AVA'])"
   ]
  }
 ],
 "metadata": {
  "kernelspec": {
   "display_name": "Python 3 (ipykernel)",
   "language": "python",
   "name": "python3"
  },
  "language_info": {
   "codemirror_mode": {
    "name": "ipython",
    "version": 3
   },
   "file_extension": ".py",
   "mimetype": "text/x-python",
   "name": "python",
   "nbconvert_exporter": "python",
   "pygments_lexer": "ipython3",
   "version": "3.9.7"
  }
 },
 "nbformat": 4,
 "nbformat_minor": 5
}
